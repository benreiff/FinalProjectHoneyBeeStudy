{
 "cells": [
  {
   "cell_type": "markdown",
   "metadata": {},
   "source": [
    "## Import libraries and dependancies"
   ]
  },
  {
   "cell_type": "code",
   "execution_count": 9,
   "metadata": {},
   "outputs": [],
   "source": [
    "import pandas as pd\n",
    "import matplotlib.pyplot as plt\n",
    "import numpy as np"
   ]
  },
  {
   "cell_type": "markdown",
   "metadata": {},
   "source": [
    "## Create CSV variable"
   ]
  },
  {
   "cell_type": "code",
   "execution_count": 10,
   "metadata": {},
   "outputs": [],
   "source": [
    "acres_bearing_almonds = \"data/acres_bearing_almonds.csv\"\n",
    "bee_colony = \"data/bee_colony_inventory.csv\"\n",
    "honey_production = \"data/honey_production.csv\""
   ]
  },
  {
   "cell_type": "markdown",
   "metadata": {},
   "source": [
    "## Import CSV files as dataframes"
   ]
  },
  {
   "cell_type": "code",
   "execution_count": 11,
   "metadata": {},
   "outputs": [],
   "source": [
    "acres_bearing_almonds_df = pd.read_csv(acres_bearing_almonds)\n",
    "bee_colony_df = pd.read_csv(bee_colony)\n",
    "honey_production_df = pd.read_csv(honey_production)"
   ]
  },
  {
   "cell_type": "markdown",
   "metadata": {},
   "source": [
    "## Filter and clean dataframes"
   ]
  },
  {
   "cell_type": "markdown",
   "metadata": {},
   "source": [
    "## 1. Honey Production"
   ]
  },
  {
   "cell_type": "code",
   "execution_count": 119,
   "metadata": {},
   "outputs": [],
   "source": [
    "revised_honey_production_df = honey_production_df[['Program', 'Year', 'Period', \n",
    "                                                   'Geo Level', 'State',\n",
    "                                                   'County', 'Commodity', 'Data Item', \n",
    "                                                   'Domain', 'Domain Category',\n",
    "                                                   'Value', 'CV (%)']]\n",
    "renamed_honey_production_df = revised_honey_production_df.rename(columns = {\"Geo Level\": \"Geo_Level\",\n",
    "                                                                            \"Data Item\": \"Data_Item\",\n",
    "                                                                            \"Domain Catagory\": \"Domain_Catagory\",\n",
    "                                                                            \"CV (%)\": \"CV_(%)\"})"
   ]
  },
  {
   "cell_type": "code",
   "execution_count": 120,
   "metadata": {},
   "outputs": [],
   "source": [
    "honey_prod_census_df = renamed_honey_production_df.loc[renamed_honey_production_df[\"Program\"] == \"CENSUS\"]\n",
    "honey_prod_survey_df = renamed_honey_production_df.loc[renamed_honey_production_df[\"Program\"] == \"SURVEY\"]"
   ]
  },
  {
   "cell_type": "code",
   "execution_count": 121,
   "metadata": {},
   "outputs": [],
   "source": [
    "honey_census_prod_ops_df = honey_prod_census_df.loc[honey_prod_census_df[\"Data_Item\"] == \"HONEY - OPERATIONS WITH PRODUCTION\"]\n",
    "honey_census_prod_lbs_df = honey_prod_census_df.loc[honey_prod_census_df[\"Data_Item\"] == \"HONEY - PRODUCTION, MEASURED IN LB\"]\n"
   ]
  },
  {
   "cell_type": "code",
   "execution_count": 122,
   "metadata": {},
   "outputs": [],
   "source": [
    "honey_survey_prod_dollars_df = honey_prod_survey_df.loc[honey_prod_survey_df[\"Data_Item\"] == \"HONEY - PRODUCTION, MEASURED IN $\"]\n",
    "honey_survey_prod_lbs_df = honey_prod_survey_df.loc[honey_prod_survey_df[\"Data_Item\"] == \"HONEY - PRODUCTION, MEASURED IN LB\"]\n",
    "honey_survey_prod_lbs_per_colony_df = honey_prod_survey_df.loc[honey_prod_survey_df[\"Data_Item\"] == \"HONEY - PRODUCTION, MEASURED IN LB / COLONY\"]\n",
    "\n",
    "\n",
    "honey_survey_prod_dollars_df = honey_survey_prod_dollars_df.loc[honey_survey_prod_dollars_df[\"Geo_Level\"] == \"STATE\"]\n",
    "honey_survey_prod_lbs_df = honey_survey_prod_lbs_df.loc[honey_survey_prod_lbs_df[\"Geo_Level\"] == \"STATE\"]\n",
    "honey_survey_prod_lbs_per_colony_df = honey_survey_prod_lbs_per_colony_df.loc[honey_survey_prod_lbs_per_colony_df[\"Geo_Level\"] == \"STATE\"]"
   ]
  },
  {
   "cell_type": "code",
   "execution_count": 123,
   "metadata": {},
   "outputs": [],
   "source": [
    "cleaned_noD_honey_census_prod_lbs_df = honey_census_prod_lbs_df[~honey_census_prod_lbs_df.Value.str.contains(\"(D)\")]\n",
    "cleaned_noZ_honey_census_prod_lbs_df = cleaned_noD_honey_census_prod_lbs_df[~cleaned_noD_honey_census_prod_lbs_df.Value.str.contains(\"(Z)\")]"
   ]
  },
  {
   "cell_type": "code",
   "execution_count": 125,
   "metadata": {},
   "outputs": [
    {
     "name": "stderr",
     "output_type": "stream",
     "text": [
      "C:\\Users\\benja\\Anaconda3\\envs\\PythonData\\lib\\site-packages\\ipykernel_launcher.py:1: SettingWithCopyWarning: \n",
      "A value is trying to be set on a copy of a slice from a DataFrame.\n",
      "Try using .loc[row_indexer,col_indexer] = value instead\n",
      "\n",
      "See the caveats in the documentation: http://pandas.pydata.org/pandas-docs/stable/user_guide/indexing.html#returning-a-view-versus-a-copy\n",
      "  \"\"\"Entry point for launching an IPython kernel.\n"
     ]
    }
   ],
   "source": [
    "honey_census_prod_ops_df['Value'] = honey_census_prod_ops_df['Value'].str.replace(',', '').astype(int)\n",
    "\n",
    "cleaned_noZ_honey_census_prod_lbs_df['Value'] = cleaned_noZ_honey_census_prod_lbs_df['Value'].str.replace(',', '').astype(int)\n",
    "\n",
    "honey_survey_prod_dollars_df['Value'] = honey_survey_prod_dollars_df['Value'].str.replace(',', '').astype(int)\n",
    "honey_survey_prod_lbs_df['Value'] = honey_survey_prod_lbs_df['Value'].str.replace(',', '').astype(int)\n",
    "honey_survey_prod_lbs_per_colony_df['Value'] = honey_survey_prod_lbs_per_colony_df['Value'].str.replace(',', '').astype(int)"
   ]
  },
  {
   "cell_type": "code",
   "execution_count": 126,
   "metadata": {},
   "outputs": [],
   "source": [
    "honey_census_prod_ops_df.to_csv(\"honey_census_prod_ops.csv\", index=True, header=True)\n",
    "cleaned_noZ_honey_census_prod_lbs_df.to_csv(\"honey_census_prod_lbs.csv\", index=True, header=True)\n",
    "honey_survey_prod_dollars_df.to_csv(\"honey_survey_prod_dollars.csv\", index=True, header=True)\n",
    "honey_survey_prod_lbs_df.to_csv(\"honey_survey_prod_lbs.csv\", index=True, header=True)\n",
    "honey_survey_prod_lbs_per_colony_df.to_csv(\"honey_survey_prod_lbs_per_colony.csv\", index=True, header=True)"
   ]
  },
  {
   "cell_type": "markdown",
   "metadata": {},
   "source": [
    "## 2. Bee Colony Inventory"
   ]
  },
  {
   "cell_type": "code",
   "execution_count": 127,
   "metadata": {},
   "outputs": [],
   "source": [
    "revised_bee_colony_df = bee_colony_df[['Program', 'Year', 'Period', \n",
    "                                                           'Geo Level', 'State',\n",
    "                                                           'County', 'Commodity', 'Data Item', \n",
    "                                                           'Domain', 'Domain Category',\n",
    "                                                           'Value', 'CV (%)']]\n",
    "renamed_bee_colony_df = revised_bee_colony_df.rename(columns = {\"Geo Level\": \"Geo_Level\",\n",
    "                                                                                     \"Data Item\": \"Data_Item\",\n",
    "                                                                                     \"Domain Catagory\": \"Domain_Catagory\",\n",
    "                                                                                     \"CV (%)\": \"CV_(%)\"})"
   ]
  },
  {
   "cell_type": "code",
   "execution_count": 128,
   "metadata": {},
   "outputs": [],
   "source": [
    "bee_colony_census_df = renamed_bee_colony_df.loc[renamed_bee_colony_df[\"Program\"] == \"CENSUS\"]\n",
    "bee_colony_survey_df = renamed_bee_colony_df.loc[renamed_bee_colony_df[\"Program\"] == \"SURVEY\"]"
   ]
  },
  {
   "cell_type": "code",
   "execution_count": 129,
   "metadata": {},
   "outputs": [],
   "source": [
    "bee_colony_inventory_census_df = bee_colony_census_df.loc[bee_colony_census_df\n",
    "                                                          [\"Data_Item\"] == \"HONEY, BEE COLONIES - INVENTORY, MEASURED IN COLONIES\"]\n",
    "bee_colony_inventory_survey_df = bee_colony_survey_df.loc[bee_colony_survey_df\n",
    "                                                          [\"Data_Item\"] == \"HONEY, BEE COLONIES - INVENTORY, MEASURED IN COLONIES\"]"
   ]
  },
  {
   "cell_type": "code",
   "execution_count": 130,
   "metadata": {},
   "outputs": [],
   "source": [
    "cleaned_noD_colony_inventory_census_df = bee_colony_inventory_census_df[~bee_colony_inventory_census_df.Value.str.contains(\"(D)\")]\n",
    "cleaned_noZ_colony_inventory_census_df = cleaned_noD_colony_inventory_census_df[~cleaned_noD_colony_inventory_census_df.Value.str.contains(\"(Z)\")]"
   ]
  },
  {
   "cell_type": "code",
   "execution_count": 131,
   "metadata": {},
   "outputs": [
    {
     "name": "stderr",
     "output_type": "stream",
     "text": [
      "C:\\Users\\benja\\Anaconda3\\envs\\PythonData\\lib\\site-packages\\ipykernel_launcher.py:2: SettingWithCopyWarning: \n",
      "A value is trying to be set on a copy of a slice from a DataFrame.\n",
      "Try using .loc[row_indexer,col_indexer] = value instead\n",
      "\n",
      "See the caveats in the documentation: http://pandas.pydata.org/pandas-docs/stable/user_guide/indexing.html#returning-a-view-versus-a-copy\n",
      "  \n"
     ]
    }
   ],
   "source": [
    "cleaned_noZ_colony_inventory_census_df['Value'] = cleaned_noZ_colony_inventory_census_df['Value'].str.replace(',', '').astype(int)\n",
    "bee_colony_inventory_survey_df['Value'] = bee_colony_inventory_survey_df['Value'].str.replace(',', '').astype(int)"
   ]
  },
  {
   "cell_type": "code",
   "execution_count": 134,
   "metadata": {},
   "outputs": [],
   "source": [
    "cleaned_noZ_colony_inventory_census_df.to_csv(\"bee_colony_inventory_census.csv\", index=True, header=True)\n",
    "bee_colony_inventory_survey_df.to_csv(\"bee_colony_inventory_survey.csv\", index=True, header=True)"
   ]
  },
  {
   "cell_type": "markdown",
   "metadata": {},
   "source": [
    "## 3. Acres Bearing Almonds\n"
   ]
  },
  {
   "cell_type": "code",
   "execution_count": 135,
   "metadata": {
    "scrolled": true
   },
   "outputs": [
    {
     "name": "stderr",
     "output_type": "stream",
     "text": [
      "C:\\Users\\benja\\Anaconda3\\envs\\PythonData\\lib\\site-packages\\ipykernel_launcher.py:17: SettingWithCopyWarning: \n",
      "A value is trying to be set on a copy of a slice from a DataFrame.\n",
      "Try using .loc[row_indexer,col_indexer] = value instead\n",
      "\n",
      "See the caveats in the documentation: http://pandas.pydata.org/pandas-docs/stable/user_guide/indexing.html#returning-a-view-versus-a-copy\n"
     ]
    }
   ],
   "source": [
    "revised_acres_bearing_almonds_df = acres_bearing_almonds_df[['Program', 'Year', 'Period', \n",
    "                                                             'Geo Level', 'State',\n",
    "                                                             'County', 'Commodity', 'Data Item', \n",
    "                                                             'Domain', 'Domain Category',\n",
    "                                                             'Value', 'CV (%)']]\n",
    "renamed_acres_bearing_almonds_df = revised_acres_bearing_almonds_df.rename(columns = {\"Geo Level\": \"Geo_Level\",\n",
    "                                                                                     \"Data Item\": \"Data_Item\",\n",
    "                                                                                     \"Domain Catagory\": \"Domain_Catagory\",\n",
    "                                                                                     \"CV (%)\": \"CV_(%)\"})\n",
    "\n",
    "cleaned_acres_bearing_almonds_df = renamed_acres_bearing_almonds_df.loc[renamed_acres_bearing_almonds_df[\"Geo_Level\"] == \"COUNTY\"]\n",
    "\n",
    "\n",
    "cleaned_noD_acres_almonds_df = renamed_acres_bearing_almonds_df[~renamed_acres_bearing_almonds_df.Value.str.contains(\"(D)\")]\n",
    "cleaned_noZ_acres_almonds_df = cleaned_noD_acres_almonds_df[~cleaned_noD_acres_almonds_df.Value.str.contains(\"(Z)\")]\n",
    "\n",
    "cleaned_noZ_acres_almonds_df['Value'] = cleaned_noZ_acres_almonds_df['Value'].str.replace(',', '').astype(int)"
   ]
  },
  {
   "cell_type": "code",
   "execution_count": 136,
   "metadata": {},
   "outputs": [],
   "source": [
    "cleaned_noZ_acres_almonds_df.to_csv(\"acres_bearing_almonds.csv\", index=True, header=True)"
   ]
  }
 ],
 "metadata": {
  "kernelspec": {
   "display_name": "Python 3",
   "language": "python",
   "name": "python3"
  },
  "language_info": {
   "codemirror_mode": {
    "name": "ipython",
    "version": 3
   },
   "file_extension": ".py",
   "mimetype": "text/x-python",
   "name": "python",
   "nbconvert_exporter": "python",
   "pygments_lexer": "ipython3",
   "version": "3.7.6"
  }
 },
 "nbformat": 4,
 "nbformat_minor": 2
}
