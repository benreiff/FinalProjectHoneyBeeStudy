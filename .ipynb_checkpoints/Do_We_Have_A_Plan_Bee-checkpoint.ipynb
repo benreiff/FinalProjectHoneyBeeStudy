{
 "cells": [
  {
   "cell_type": "markdown",
   "metadata": {},
   "source": [
    "## Import libraries and dependancies"
   ]
  },
  {
   "cell_type": "code",
   "execution_count": 3,
   "metadata": {},
   "outputs": [],
   "source": [
    "import pandas as pd\n",
    "import matplotlib.pyplot as plt\n",
    "import numpy as np"
   ]
  },
  {
   "cell_type": "markdown",
   "metadata": {},
   "source": [
    "## Create CSV variable"
   ]
  },
  {
   "cell_type": "code",
   "execution_count": 4,
   "metadata": {},
   "outputs": [],
   "source": [
    "acres_bearing_almonds = \"acres_bearing_almonds.csv\"\n",
    "bee_colony_inventory = \"bee_colony_inventory.csv\"\n",
    "honey_production = \"honey_production.csv\""
   ]
  },
  {
   "cell_type": "markdown",
   "metadata": {},
   "source": [
    "## Import CSV files as dataframes"
   ]
  },
  {
   "cell_type": "code",
   "execution_count": 5,
   "metadata": {},
   "outputs": [],
   "source": [
    "acres_bearing_almonds_df = pd.read_csv(acres_bearing_almonds)\n",
    "bee_colony_inventory_df = pd.read_csv(bee_colony_inventory)\n",
    "honey_production_df = pd.read_csv(honey_production)"
   ]
  },
  {
   "cell_type": "markdown",
   "metadata": {},
   "source": [
    "## Filter unneeded columns"
   ]
  },
  {
   "cell_type": "markdown",
   "metadata": {},
   "source": [
    "## 1. Acres Bearing Almonds"
   ]
  },
  {
   "cell_type": "code",
   "execution_count": 87,
   "metadata": {},
   "outputs": [
    {
     "data": {
      "text/html": [
       "<div>\n",
       "<style scoped>\n",
       "    .dataframe tbody tr th:only-of-type {\n",
       "        vertical-align: middle;\n",
       "    }\n",
       "\n",
       "    .dataframe tbody tr th {\n",
       "        vertical-align: top;\n",
       "    }\n",
       "\n",
       "    .dataframe thead th {\n",
       "        text-align: right;\n",
       "    }\n",
       "</style>\n",
       "<table border=\"1\" class=\"dataframe\">\n",
       "  <thead>\n",
       "    <tr style=\"text-align: right;\">\n",
       "      <th></th>\n",
       "      <th>Program</th>\n",
       "      <th>Year</th>\n",
       "      <th>Period</th>\n",
       "      <th>Geo_Level</th>\n",
       "      <th>State</th>\n",
       "      <th>Ag_District</th>\n",
       "      <th>Ag_District_Code</th>\n",
       "      <th>County</th>\n",
       "      <th>Commodity</th>\n",
       "      <th>Data_Item</th>\n",
       "      <th>Domain</th>\n",
       "      <th>Domain Category</th>\n",
       "      <th>Value</th>\n",
       "      <th>CV_(%)</th>\n",
       "    </tr>\n",
       "  </thead>\n",
       "  <tbody>\n",
       "    <tr>\n",
       "      <th>3</th>\n",
       "      <td>CENSUS</td>\n",
       "      <td>2017</td>\n",
       "      <td>YEAR</td>\n",
       "      <td>COUNTY</td>\n",
       "      <td>ARIZONA</td>\n",
       "      <td>SOUTHERN</td>\n",
       "      <td>80.0</td>\n",
       "      <td>MARICOPA</td>\n",
       "      <td>ALMONDS</td>\n",
       "      <td>ALMONDS - ACRES BEARING</td>\n",
       "      <td>TOTAL</td>\n",
       "      <td>NOT SPECIFIED</td>\n",
       "      <td>1</td>\n",
       "      <td>(H)</td>\n",
       "    </tr>\n",
       "    <tr>\n",
       "      <th>4</th>\n",
       "      <td>CENSUS</td>\n",
       "      <td>2017</td>\n",
       "      <td>YEAR</td>\n",
       "      <td>COUNTY</td>\n",
       "      <td>ARKANSAS</td>\n",
       "      <td>CENTRAL</td>\n",
       "      <td>50.0</td>\n",
       "      <td>PULASKI</td>\n",
       "      <td>ALMONDS</td>\n",
       "      <td>ALMONDS - ACRES BEARING</td>\n",
       "      <td>TOTAL</td>\n",
       "      <td>NOT SPECIFIED</td>\n",
       "      <td>(Z)</td>\n",
       "      <td>(H)</td>\n",
       "    </tr>\n",
       "    <tr>\n",
       "      <th>12</th>\n",
       "      <td>CENSUS</td>\n",
       "      <td>2017</td>\n",
       "      <td>YEAR</td>\n",
       "      <td>COUNTY</td>\n",
       "      <td>CALIFORNIA</td>\n",
       "      <td>CENTRAL COAST</td>\n",
       "      <td>40.0</td>\n",
       "      <td>SAN LUIS OBISPO</td>\n",
       "      <td>ALMONDS</td>\n",
       "      <td>ALMONDS - ACRES BEARING</td>\n",
       "      <td>TOTAL</td>\n",
       "      <td>NOT SPECIFIED</td>\n",
       "      <td>612</td>\n",
       "      <td>11.7</td>\n",
       "    </tr>\n",
       "    <tr>\n",
       "      <th>14</th>\n",
       "      <td>CENSUS</td>\n",
       "      <td>2017</td>\n",
       "      <td>YEAR</td>\n",
       "      <td>COUNTY</td>\n",
       "      <td>CALIFORNIA</td>\n",
       "      <td>CENTRAL COAST</td>\n",
       "      <td>40.0</td>\n",
       "      <td>SONOMA</td>\n",
       "      <td>ALMONDS</td>\n",
       "      <td>ALMONDS - ACRES BEARING</td>\n",
       "      <td>TOTAL</td>\n",
       "      <td>NOT SPECIFIED</td>\n",
       "      <td>2</td>\n",
       "      <td>11.7</td>\n",
       "    </tr>\n",
       "    <tr>\n",
       "      <th>19</th>\n",
       "      <td>CENSUS</td>\n",
       "      <td>2017</td>\n",
       "      <td>YEAR</td>\n",
       "      <td>COUNTY</td>\n",
       "      <td>CALIFORNIA</td>\n",
       "      <td>SACRAMENTO VALLEY</td>\n",
       "      <td>50.0</td>\n",
       "      <td>BUTTE</td>\n",
       "      <td>ALMONDS</td>\n",
       "      <td>ALMONDS - ACRES BEARING</td>\n",
       "      <td>TOTAL</td>\n",
       "      <td>NOT SPECIFIED</td>\n",
       "      <td>34,683</td>\n",
       "      <td>11.7</td>\n",
       "    </tr>\n",
       "  </tbody>\n",
       "</table>\n",
       "</div>"
      ],
      "text/plain": [
       "   Program  Year Period Geo_Level       State        Ag_District  \\\n",
       "3   CENSUS  2017   YEAR    COUNTY     ARIZONA           SOUTHERN   \n",
       "4   CENSUS  2017   YEAR    COUNTY    ARKANSAS            CENTRAL   \n",
       "12  CENSUS  2017   YEAR    COUNTY  CALIFORNIA      CENTRAL COAST   \n",
       "14  CENSUS  2017   YEAR    COUNTY  CALIFORNIA      CENTRAL COAST   \n",
       "19  CENSUS  2017   YEAR    COUNTY  CALIFORNIA  SACRAMENTO VALLEY   \n",
       "\n",
       "    Ag_District_Code           County Commodity                Data_Item  \\\n",
       "3               80.0         MARICOPA   ALMONDS  ALMONDS - ACRES BEARING   \n",
       "4               50.0          PULASKI   ALMONDS  ALMONDS - ACRES BEARING   \n",
       "12              40.0  SAN LUIS OBISPO   ALMONDS  ALMONDS - ACRES BEARING   \n",
       "14              40.0           SONOMA   ALMONDS  ALMONDS - ACRES BEARING   \n",
       "19              50.0            BUTTE   ALMONDS  ALMONDS - ACRES BEARING   \n",
       "\n",
       "   Domain Domain Category   Value CV_(%)  \n",
       "3   TOTAL   NOT SPECIFIED       1    (H)  \n",
       "4   TOTAL   NOT SPECIFIED     (Z)    (H)  \n",
       "12  TOTAL   NOT SPECIFIED     612   11.7  \n",
       "14  TOTAL   NOT SPECIFIED       2   11.7  \n",
       "19  TOTAL   NOT SPECIFIED  34,683   11.7  "
      ]
     },
     "execution_count": 87,
     "metadata": {},
     "output_type": "execute_result"
    }
   ],
   "source": [
    "revised_acres_bearing_almonds_df = acres_bearing_almonds_df[['Program', 'Year', 'Period', \n",
    "                                                             'Geo Level', 'State',\n",
    "                                                             'Ag District', 'Ag District Code',\n",
    "                                                             'County', 'Commodity', 'Data Item', \n",
    "                                                             'Domain', 'Domain Category',\n",
    "                                                             'Value', 'CV (%)']]\n",
    "renamed_acres_bearing_almonds_df = revised_acres_bearing_almonds_df.rename(columns = {\"Geo Level\": \"Geo_Level\",\n",
    "                                                                                     \"Ag District\": \"Ag_District\",\n",
    "                                                                                     \"Ag District Code\": \"Ag_District_Code\",\n",
    "                                                                                     \"Data Item\": \"Data_Item\",\n",
    "                                                                                     \"Domain Catagory\": \"Domain_Catagory\",\n",
    "                                                                                     \"CV (%)\": \"CV_(%)\"})\n",
    "cleaned_noD_acres_almonds_df = renamed_acres_bearing_almonds_df[~renamed_acres_bearing_almonds_df.Value.str.contains(\"(D)\")]\n",
    "\n",
    "\n",
    "\n",
    "#df_new = renamed_acres_bearing_almonds_df.drop(renamed_acres_bearing_almonds_df[(renamed_acres_bearing_almonds_df[\"Value\"] == \"(D)\") & (renamed_acres_bearing_almonds_df[\"Value\"] == \"(Z)\")].index)\n",
    "#df_new.head()"
   ]
  },
  {
   "cell_type": "markdown",
   "metadata": {},
   "source": [
    "## 2. Bee Colony Inventory"
   ]
  },
  {
   "cell_type": "code",
   "execution_count": 40,
   "metadata": {},
   "outputs": [],
   "source": [
    "revised_bee_colony_inventory_df = bee_colony_inventory_df[['Program', 'Year', 'Period', \n",
    "                                                           'Geo Level', 'State',\n",
    "                                                           'Ag District', 'Ag District Code',\n",
    "                                                           'County', 'Commodity', 'Data Item', \n",
    "                                                           'Domain', 'Domain Category',\n",
    "                                                           'Value', 'CV (%)']]\n",
    "renamed_bee_colony_inventory_df = revised_bee_colony_inventory_df.rename(columns = {\"Geo Level\": \"Geo_Level\",\n",
    "                                                                                     \"Ag District\": \"Ag_District\",\n",
    "                                                                                     \"Ag District Code\": \"Ag_District_Code\",\n",
    "                                                                                     \"Data Item\": \"Data_Item\",\n",
    "                                                                                     \"Domain Catagory\": \"Domain_Catagory\",\n",
    "                                                                                     \"CV (%)\": \"CV_(%)\"})"
   ]
  },
  {
   "cell_type": "markdown",
   "metadata": {},
   "source": [
    "## 3. Honey Production"
   ]
  },
  {
   "cell_type": "code",
   "execution_count": 41,
   "metadata": {},
   "outputs": [],
   "source": [
    "revised_honey_production_df = honey_production_df[['Program', 'Year', 'Period', \n",
    "                                                   'Geo Level', 'State',\n",
    "                                                   'Ag District', 'Ag District Code',\n",
    "                                                   'County', 'Commodity', 'Data Item', \n",
    "                                                   'Domain', 'Domain Category',\n",
    "                                                   'Value', 'CV (%)']]\n",
    "renamed_honey_production_df = revised_honey_production_df.rename(columns = {\"Geo Level\": \"Geo_Level\",\n",
    "                                                                                     \"Ag District\": \"Ag_District\",\n",
    "                                                                                     \"Ag District Code\": \"Ag_District_Code\",\n",
    "                                                                                     \"Data Item\": \"Data_Item\",\n",
    "                                                                                     \"Domain Catagory\": \"Domain_Catagory\",\n",
    "                                                                                     \"CV (%)\": \"CV_(%)\"})"
   ]
  },
  {
   "cell_type": "code",
   "execution_count": null,
   "metadata": {},
   "outputs": [],
   "source": []
  },
  {
   "cell_type": "code",
   "execution_count": null,
   "metadata": {},
   "outputs": [],
   "source": []
  },
  {
   "cell_type": "code",
   "execution_count": null,
   "metadata": {},
   "outputs": [],
   "source": []
  },
  {
   "cell_type": "code",
   "execution_count": null,
   "metadata": {},
   "outputs": [],
   "source": []
  },
  {
   "cell_type": "code",
   "execution_count": null,
   "metadata": {},
   "outputs": [],
   "source": []
  }
 ],
 "metadata": {
  "kernelspec": {
   "display_name": "Python 3",
   "language": "python",
   "name": "python3"
  },
  "language_info": {
   "codemirror_mode": {
    "name": "ipython",
    "version": 3
   },
   "file_extension": ".py",
   "mimetype": "text/x-python",
   "name": "python",
   "nbconvert_exporter": "python",
   "pygments_lexer": "ipython3",
   "version": "3.7.6"
  }
 },
 "nbformat": 4,
 "nbformat_minor": 2
}
