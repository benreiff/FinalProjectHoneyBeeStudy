{
 "cells": [
  {
   "cell_type": "markdown",
   "metadata": {},
   "source": [
    "## Import libraries and dependancies"
   ]
  },
  {
   "cell_type": "code",
   "execution_count": 2,
   "metadata": {},
   "outputs": [],
   "source": [
    "import pandas as pd\n",
    "import matplotlib.pyplot as plt\n",
    "import numpy as np"
   ]
  },
  {
   "cell_type": "markdown",
   "metadata": {},
   "source": [
    "## Create CSV variable"
   ]
  },
  {
   "cell_type": "code",
   "execution_count": 3,
   "metadata": {},
   "outputs": [],
   "source": [
    "acres_bearing_almonds = \"acres_bearing_almonds.csv\"\n",
    "bee_colony_inventory = \"bee_colony_inventory.csv\"\n",
    "honey_production = \"honey_production.csv\""
   ]
  },
  {
   "cell_type": "markdown",
   "metadata": {},
   "source": [
    "## Import CSV files as dataframes"
   ]
  },
  {
   "cell_type": "code",
   "execution_count": 4,
   "metadata": {},
   "outputs": [],
   "source": [
    "acres_bearing_almonds_df = pd.read_csv(acres_bearing_almonds)\n",
    "bee_colony_inventory_df = pd.read_csv(bee_colony_inventory)\n",
    "honey_production_df = pd.read_csv(honey_production)"
   ]
  },
  {
   "cell_type": "markdown",
   "metadata": {},
   "source": [
    "## Filter and clean dataframes"
   ]
  },
  {
   "cell_type": "markdown",
   "metadata": {},
   "source": [
    "## 1. Honey Production"
   ]
  },
  {
   "cell_type": "code",
   "execution_count": 37,
   "metadata": {},
   "outputs": [],
   "source": [
    "revised_honey_production_df = honey_production_df[['Program', 'Year', 'Period', \n",
    "                                                   'Geo Level', 'State',\n",
    "                                                   'County', 'Commodity', 'Data Item', \n",
    "                                                   'Domain', 'Domain Category',\n",
    "                                                   'Value', 'CV (%)']]\n",
    "renamed_honey_production_df = revised_honey_production_df.rename(columns = {\"Geo Level\": \"Geo_Level\",\n",
    "                                                                            \"Data Item\": \"Data_Item\",\n",
    "                                                                            \"Domain Catagory\": \"Domain_Catagory\",\n",
    "                                                                            \"CV (%)\": \"CV_(%)\"})\n",
    "\n",
    "honey_prod_census_df = renamed_honey_production_df.loc[renamed_honey_production_df[\"Program\"] == \"CENSUS\"]\n",
    "honey_prod_survey_df = renamed_honey_production_df.loc[renamed_honey_production_df[\"Program\"] == \"SURVEY\"]\n",
    "\n",
    "honey_census_prod_ops_df = honey_prod_census_df.loc[honey_prod_census_df[\"Data_Item\"] == \"HONEY - OPERATIONS WITH PRODUCTION\"]\n",
    "honey_census_prod_lbs_df = honey_prod_census_df.loc[honey_prod_census_df[\"Data_Item\"] == \"HONEY - PRODUCTION, MEASURED IN LB\"]\n",
    "\n",
    "honey_survey_prod_dollars_df = honey_prod_survey_df.loc[honey_prod_survey_df[\"Data_Item\"] == \"HONEY - PRODUCTION, MEASURED IN $\"]\n",
    "honey_survey_prod_lbs_df = honey_prod_survey_df.loc[honey_prod_survey_df[\"Data_Item\"] == \"HONEY - PRODUCTION, MEASURED IN LB\"]\n",
    "honey_survey_prod_lbs_per_colony_df = honey_prod_survey_df.loc[honey_prod_survey_df[\"Data_Item\"] == \"HONEY - PRODUCTION, MEASURED IN LB / COLONY\"]\n",
    "\n",
    "honey_survey_prod_dollars_df = honey_survey_prod_dollars_df.loc[honey_survey_prod_dollars_df[\"Geo_Level\"] == \"STATE\"]\n",
    "honey_survey_prod_lbs_df = honey_survey_prod_lbs_df.loc[honey_survey_prod_lbs_df[\"Geo_Level\"] == \"STATE\"]\n",
    "honey_survey_prod_lbs_per_colony_df = honey_survey_prod_lbs_per_colony_df.loc[honey_survey_prod_lbs_per_colony_df[\"Geo_Level\"] == \"STATE\"]\n",
    "\n",
    "honey_census_prod_ops_df.to_csv(\"honey_census_prod_ops.csv\", index=True, header=True)\n",
    "honey_census_prod_lbs_df.to_csv(\"honey_census_prod_lbs.csv\", index=True, header=True)\n",
    "honey_survey_prod_dollars_df.to_csv(\"honey_survey_prod_dollars.csv\", index=True, header=True)\n",
    "honey_survey_prod_lbs_df.to_csv(\"honey_survey_prod_lbs.csv\", index=True, header=True)\n",
    "honey_survey_prod_lbs_per_colony_df.to_csv(\"honey_survey_prod_lbs_per_colony.csv\", index=True, header=True)"
   ]
  },
  {
   "cell_type": "markdown",
   "metadata": {},
   "source": [
    "## 2. Bee Colony Inventory"
   ]
  },
  {
   "cell_type": "code",
   "execution_count": 6,
   "metadata": {},
   "outputs": [],
   "source": [
    "revised_bee_colony_inventory_df = bee_colony_inventory_df[['Program', 'Year', 'Period', \n",
    "                                                           'Geo Level', 'State',\n",
    "                                                           'County', 'Commodity', 'Data Item', \n",
    "                                                           'Domain', 'Domain Category',\n",
    "                                                           'Value', 'CV (%)']]\n",
    "renamed_bee_colony_inventory_df = revised_bee_colony_inventory_df.rename(columns = {\"Geo Level\": \"Geo_Level\",\n",
    "                                                                                     \"Data Item\": \"Data_Item\",\n",
    "                                                                                     \"Domain Catagory\": \"Domain_Catagory\",\n",
    "                                                                                     \"CV (%)\": \"CV_(%)\"})\n",
    "\n",
    "colony_inventory_df = cleaned_bee_colony_inventory_df.loc[cleaned_bee_colony_inventory_df\n",
    "                                                          [\"Data_Item\"] == \"HONEY, BEE COLONIES - INVENTORY, MEASURED IN COLONIES\"]\n",
    "#colony_loss_deadout_df = cleaned_bee_colony_inventory_df.loc[cleaned_bee_colony_inventory_df\n",
    "#                                                          [\"Data_Item\"] == \"HONEY, BEE COLONIES - LOSS, DEADOUT, MEASURED IN COLONIES\"]"
   ]
  },
  {
   "cell_type": "markdown",
   "metadata": {},
   "source": [
    "## 3. Acres Bearing Almonds\n"
   ]
  },
  {
   "cell_type": "code",
   "execution_count": 53,
   "metadata": {},
   "outputs": [],
   "source": [
    "revised_acres_bearing_almonds_df = acres_bearing_almonds_df[['Program', 'Year', 'Period', \n",
    "                                                             'Geo Level', 'State',\n",
    "                                                             'County', 'Commodity', 'Data Item', \n",
    "                                                             'Domain', 'Domain Category',\n",
    "                                                             'Value', 'CV (%)']]\n",
    "renamed_acres_bearing_almonds_df = revised_acres_bearing_almonds_df.rename(columns = {\"Geo Level\": \"Geo_Level\",\n",
    "                                                                                     \"Data Item\": \"Data_Item\",\n",
    "                                                                                     \"Domain Catagory\": \"Domain_Catagory\",\n",
    "                                                                                     \"CV (%)\": \"CV_(%)\"})\n",
    "\n",
    "cleaned_acres_bearing_almonds_df = renamed_acres_bearing_almonds_df.loc[renamed_acres_bearing_almonds_df[\"Geo_Level\"] == \"COUNTY\"]\n",
    "\n",
    "# cleaned_noD_acres_almonds_df = renamed_acres_bearing_almonds_df[~renamed_acres_bearing_almonds_df.Value.str.contains(\"(D)\")]"
   ]
  }
 ],
 "metadata": {
  "kernelspec": {
   "display_name": "Python 3",
   "language": "python",
   "name": "python3"
  },
  "language_info": {
   "codemirror_mode": {
    "name": "ipython",
    "version": 3
   },
   "file_extension": ".py",
   "mimetype": "text/x-python",
   "name": "python",
   "nbconvert_exporter": "python",
   "pygments_lexer": "ipython3",
   "version": "3.7.6"
  }
 },
 "nbformat": 4,
 "nbformat_minor": 2
}
